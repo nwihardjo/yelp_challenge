{
  "nbformat": 4,
  "nbformat_minor": 0,
  "metadata": {
    "colab": {
      "name": "asg1.ipynb",
      "version": "0.3.2",
      "provenance": [],
      "collapsed_sections": []
    },
    "kernelspec": {
      "name": "python3",
      "display_name": "Python 3"
    },
    "accelerator": "TPU"
  },
  "cells": [
    {
      "metadata": {
        "id": "2nzXoVaVHXsb",
        "colab_type": "code",
        "colab": {}
      },
      "cell_type": "code",
      "source": [
        "import numpy as np\n",
        "import string\n",
        "import pandas as pd\n",
        "import nltk\n",
        "import keras\n",
        "import logging\n",
        "logging.getLogger('tensorflow').disabled = True\n",
        "import tensorflow as tf\n",
        "import os\n",
        "import io\n",
        "import math\n",
        "\n",
        "# Uncomment below to download files from google drive\n",
        "# from google.colab import auth\n",
        "# from googleapiclient.discovery import build\n",
        "# from googleapiclient.http import MediaIoBaseDownload\n",
        "\n",
        "from sklearn import random_projection\n",
        "from sklearn.metrics import accuracy_score\n",
        "from nltk.corpus import stopwords\n",
        "\n",
        "from tensorflow.keras.models import Model\n",
        "from tensorflow.keras.layers import Embedding, Dense, Dropout, \\\n",
        "    Input, Bidirectional, GRU, TimeDistributed\n",
        "from tensorflow.keras.optimizers import RMSprop\n",
        "from tensorflow.keras import metrics\n",
        "from tensorflow.keras.callbacks import ReduceLROnPlateau, EarlyStopping\n",
        "import matplotlib.pyplot as plt"
      ],
      "execution_count": 0,
      "outputs": []
    },
    {
      "metadata": {
        "id": "C57BMSBKuNJn",
        "colab_type": "code",
        "outputId": "d32b718e-d0ab-4562-ae94-89ff2cb647be",
        "colab": {
          "base_uri": "https://localhost:8080/",
          "height": 114
        }
      },
      "cell_type": "code",
      "source": [
        "nltk.download('stopwords')\n",
        "nltk.download('punkt')\n",
        "\n",
        "# This is used for initializing the google drive service\n",
        "# auth.authenticate_user()\n",
        "# drive_service = build('drive', 'v3')"
      ],
      "execution_count": 6,
      "outputs": [
        {
          "output_type": "stream",
          "text": [
            "[nltk_data] Downloading package stopwords to /root/nltk_data...\n",
            "[nltk_data]   Package stopwords is already up-to-date!\n",
            "[nltk_data] Downloading package punkt to /root/nltk_data...\n",
            "[nltk_data]   Package punkt is already up-to-date!\n"
          ],
          "name": "stdout"
        },
        {
          "output_type": "execute_result",
          "data": {
            "text/plain": [
              "True"
            ]
          },
          "metadata": {
            "tags": []
          },
          "execution_count": 6
        }
      ]
    },
    {
      "metadata": {
        "id": "nWF74crtko6l",
        "colab_type": "code",
        "outputId": "4bfa5c1e-5436-4b53-9705-2d971490951b",
        "colab": {
          "base_uri": "https://localhost:8080/",
          "height": 56
        }
      },
      "cell_type": "code",
      "source": [
        "# This is used for downloading the train, test, valid, etc data from google drive\n",
        "'''\n",
        "folder_id = '19noVEHj5FXaVyy-iVgyoa2dmtiy61_VA'\n",
        "params = {}\n",
        "children = drive_service.files().list(q=\"'\" + folder_id + \"' in parents\").execute()\n",
        "for child in children.get('files', []):\n",
        "    file_id = child['id']\n",
        "    request = drive_service.files().get_media(fileId=file_id)\n",
        "    fh = io.BytesIO()\n",
        "    downloader = MediaIoBaseDownload(fh, request)\n",
        "    done = False\n",
        "    while done is False:\n",
        "        try:\n",
        "            status, done = downloader.next_chunk()\n",
        "        except:\n",
        "            break\n",
        "        print(\"Download %d%%.\" % int(status.progress() * 100))\n",
        "    if done:\n",
        "        with open(child['name'], 'wb') as x:\n",
        "            x.write(fh.getvalue())\n",
        "        \n",
        "print(\"Download Finished\")\n",
        "'''"
      ],
      "execution_count": 9,
      "outputs": [
        {
          "output_type": "execute_result",
          "data": {
            "text/plain": [
              "'\\nfolder_id = \\'19noVEHj5FXaVyy-iVgyoa2dmtiy61_VA\\'\\nparams = {}\\nchildren = drive_service.files().list(q=\"\\'\" + folder_id + \"\\' in parents\").execute()\\nfor child in children.get(\\'files\\', []):\\n    file_id = child[\\'id\\']\\n    request = drive_service.files().get_media(fileId=file_id)\\n    fh = io.BytesIO()\\n    downloader = MediaIoBaseDownload(fh, request)\\n    done = False\\n    while done is False:\\n        try:\\n            status, done = downloader.next_chunk()\\n        except:\\n            break\\n        print(\"Download %d%%.\" % int(status.progress() * 100))\\n    if done:\\n        with open(child[\\'name\\'], \\'wb\\') as x:\\n            x.write(fh.getvalue())\\n        \\nprint(\"Download Finished\")\\n'"
            ]
          },
          "metadata": {
            "tags": []
          },
          "execution_count": 9
        }
      ]
    },
    {
      "metadata": {
        "id": "X1dg-UVxj275",
        "colab_type": "code",
        "outputId": "63de8bb4-0bea-4353-926d-5436c7b9a55d",
        "colab": {
          "base_uri": "https://localhost:8080/",
          "height": 56
        }
      },
      "cell_type": "code",
      "source": [
        "# This is used for downloading the Glove pre-trained word embeddings from google drive\n",
        "'''\n",
        "glove_file_id = '1_iIYhqUoMx5TO-HYHx7_wiIVXMjqrzXk'\n",
        "request = drive_service.files().get_media(fileId=glove_file_id)\n",
        "fh = io.BytesIO()\n",
        "downloader = MediaIoBaseDownload(fh, request)\n",
        "done = False\n",
        "while done is False:\n",
        "    status, done = downloader.next_chunk()\n",
        "    print(\"Download %d%%.\" % int(status.progress() * 100))\n",
        "with open('glove-42B-300d.txt', 'wb') as x:\n",
        "    x.write(fh.getvalue())\n",
        "    \n",
        "print(\"Download Finished\")\n",
        "'''"
      ],
      "execution_count": 10,
      "outputs": [
        {
          "output_type": "execute_result",
          "data": {
            "text/plain": [
              "'\\nglove_file_id = \\'1_iIYhqUoMx5TO-HYHx7_wiIVXMjqrzXk\\'\\nrequest = drive_service.files().get_media(fileId=glove_file_id)\\nfh = io.BytesIO()\\ndownloader = MediaIoBaseDownload(fh, request)\\ndone = False\\nwhile done is False:\\n    status, done = downloader.next_chunk()\\n    print(\"Download %d%%.\" % int(status.progress() * 100))\\nwith open(\\'glove-42B-300d.txt\\', \\'wb\\') as x:\\n    x.write(fh.getvalue())\\n    \\nprint(\"Download Finished\")\\n'"
            ]
          },
          "metadata": {
            "tags": []
          },
          "execution_count": 10
        }
      ]
    },
    {
      "metadata": {
        "id": "P1X6sW8Mt9jy",
        "colab_type": "code",
        "colab": {}
      },
      "cell_type": "code",
      "source": [
        "stop_words = set(stopwords.words('english') + list(string.punctuation))"
      ],
      "execution_count": 0,
      "outputs": []
    },
    {
      "metadata": {
        "id": "Qsz4t7DxuDCE",
        "colab_type": "code",
        "colab": {}
      },
      "cell_type": "code",
      "source": [
        "# -------------- Helper Functions --------------\n",
        "def tokenize(text):\n",
        "    '''\n",
        "    :param text: a doc with multiple sentences, type: str\n",
        "    return a word list, type: list\n",
        "    https://textminingonline.com/dive-into-nltk-part-ii-sentence-tokenize-and-word-tokenize\n",
        "    e.g.\n",
        "    Input: 'It is a nice day. I am happy.'\n",
        "    Output: ['it', 'is', 'a', 'nice', 'day', 'i', 'am', 'happy']\n",
        "    '''\n",
        "    tokens = []\n",
        "    for word in nltk.tokenize.word_tokenize(text):\n",
        "        word = word.lower()\n",
        "        if word not in stop_words and not word.isnumeric():\n",
        "            tokens.append(word)\n",
        "    return tokens"
      ],
      "execution_count": 0,
      "outputs": []
    },
    {
      "metadata": {
        "id": "kwbD9LAtzoO6",
        "colab_type": "code",
        "colab": {}
      },
      "cell_type": "code",
      "source": [
        "def get_sequence(data, seq_length, vocab_dict):\n",
        "    '''\n",
        "    :param data: a list of words, type: list\n",
        "    :param seq_length: the length of sequences,, type: int\n",
        "    :param vocab_dict: a dict from words to indices, type: dict\n",
        "    return a dense sequence matrix whose elements are indices of words,\n",
        "    '''\n",
        "    data_matrix = np.zeros((len(data), seq_length), dtype=int)\n",
        "    for i, doc in enumerate(data):\n",
        "        for j, word in enumerate(doc):\n",
        "            # YOUR CODE HERE\n",
        "            if j == seq_length:\n",
        "                break\n",
        "            word_idx = vocab_dict.get(word, 1) # 1 means the unknown word\n",
        "            data_matrix[i, j] = word_idx\n",
        "    return data_matrix"
      ],
      "execution_count": 0,
      "outputs": []
    },
    {
      "metadata": {
        "id": "INUS7R_vzsZs",
        "colab_type": "code",
        "colab": {}
      },
      "cell_type": "code",
      "source": [
        "def read_data(file_name, input_length, vocab=None):\n",
        "    '''\n",
        "    yelp_review_no_intersect is crafted by sampling the original dataset\n",
        "    released by yelp (~8GB). The sampling is done by running the following code\n",
        "        yelp_json_f = open('yelp_review.json', 'r')\n",
        "        yelp_json_500k_f = open('yelp_review_500k.json', 'w')\n",
        "        c = 0\n",
        "        for line in yelp_json_f:\n",
        "            if random.random() <= 0.6:\n",
        "                continue\n",
        "            if c >= 500000:\n",
        "                break\n",
        "            yelp_json_500k_f.write(eval(line))\n",
        "            c += 1\n",
        "        yelp_json_f.close()\n",
        "        yelp_json_500k_f.close()\n",
        "    Then, we remove all samples which exist in either valid.csv or test.csv\n",
        "    such that the intersection between yelp_review_no_intersect dataset with\n",
        "    both valid.csv and test.csv is empty set. There were about 1800 samples\n",
        "    removed from the yelp_json_500k dataset. Finally, in this function,\n",
        "    we only load the first 300k samples from yelp_review_no_intersect dataset.\n",
        "    '''\n",
        "    \n",
        "    df = pd.read_csv(file_name)\n",
        "    if file_name == 'yelp_review_no_intersect.csv':\n",
        "        df.drop(labels=[i for i in range(300000, len(df))], inplace=True)\n",
        "    df['words'] = df['text'].apply(tokenize)\n",
        "\n",
        "    if vocab is None:\n",
        "        vocab = set()\n",
        "        for i in range(len(df)):\n",
        "            for word in df.iloc[i]['words']:\n",
        "                vocab.add(word)\n",
        "    vocab_dict = dict()\n",
        "    vocab_dict['<pad>'] = 0 # 0 means the padding signal\n",
        "    vocab_dict['<unk>'] = 1 # 1 means the unknown word\n",
        "    vocab_size = 2\n",
        "    for v in vocab:\n",
        "        vocab_dict[v] = vocab_size\n",
        "        vocab_size += 1\n",
        "\n",
        "    data_matrix = get_sequence(df['words'], input_length, vocab_dict)\n",
        "    stars = df['stars'].apply(int) - 1\n",
        "    return df['review_id'], stars, data_matrix, vocab, vocab_dict\n",
        "# ----------------- End of Helper Functions-----------------"
      ],
      "execution_count": 0,
      "outputs": []
    },
    {
      "metadata": {
        "id": "RQdWB9ti1T_u",
        "colab_type": "code",
        "colab": {}
      },
      "cell_type": "code",
      "source": [
        "def load_data(input_length):\n",
        "    # Load training data and vocab\n",
        "    train_id_list, train_data_label, train_data_matrix, vocab, _ = read_data(\"yelp_review_no_intersect.csv\", input_length)\n",
        "    K = max(train_data_label)+1  # labels begin with 0\n",
        "\n",
        "    # Load valid data\n",
        "    valid_id_list, valid_data_label, valid_data_matrix, _, _ = read_data(\"valid.csv\", input_length, vocab=vocab)\n",
        "\n",
        "    # Load testing data\n",
        "    test_id_list, _, test_data_matrix, _, vocab_dict = read_data(\"test.csv\", input_length, vocab=vocab)\n",
        "    \n",
        "    print(\"Vocabulary Size:\", len(vocab))\n",
        "    print(\"Training Set Size:\", len(train_id_list))\n",
        "    print(\"Validation Set Size:\", len(valid_id_list))\n",
        "    print(\"Test Set Size:\", len(test_id_list))\n",
        "    print(\"Training Set Shape:\", train_data_matrix.shape)\n",
        "    print(\"Validation Set Shape:\", valid_data_matrix.shape)\n",
        "    print(\"Testing Set Shape:\", test_data_matrix.shape)\n",
        "\n",
        "    # Converts a class vector to binary class matrix.\n",
        "    # https://keras.io/utils/#to_categorical\n",
        "    train_data_label = keras.utils.to_categorical(train_data_label, num_classes=K)\n",
        "    valid_data_label = keras.utils.to_categorical(valid_data_label, num_classes=K)\n",
        "    return train_id_list, train_data_matrix, train_data_label, \\\n",
        "        valid_id_list, valid_data_matrix, valid_data_label, \\\n",
        "        test_id_list, test_data_matrix, vocab, vocab_dict"
      ],
      "execution_count": 0,
      "outputs": []
    },
    {
      "metadata": {
        "id": "dDM0iLqi5oRu",
        "colab_type": "code",
        "colab": {}
      },
      "cell_type": "code",
      "source": [
        "# Hyperparameters\n",
        "input_length = 250\n",
        "embedding_size = 300\n",
        "hidden_size = 80\n",
        "batch_size = 512\n",
        "dropout_rate = 0.2\n",
        "learning_rate = 0.001\n",
        "total_epoch = 20"
      ],
      "execution_count": 0,
      "outputs": []
    },
    {
      "metadata": {
        "id": "mGvqQgQJ5ySM",
        "colab_type": "code",
        "outputId": "0deedd9d-0521-4537-ed4e-21ae9870e971",
        "colab": {
          "base_uri": "https://localhost:8080/",
          "height": 153
        }
      },
      "cell_type": "code",
      "source": [
        "train_id_list, train_data_matrix, train_data_label, \\\n",
        "    valid_id_list, valid_data_matrix, valid_data_label, \\\n",
        "    test_id_list, test_data_matrix, vocab, vocab_dict = load_data(input_length)"
      ],
      "execution_count": 17,
      "outputs": [
        {
          "output_type": "stream",
          "text": [
            "Vocabulary Size: 214626\n",
            "Training Set Size: 300000\n",
            "Validation Set Size: 10000\n",
            "Test Set Size: 10000\n",
            "Training Set Shape: (300000, 250)\n",
            "Validation Set Shape: (10000, 250)\n",
            "Testing Set Shape: (10000, 250)\n"
          ],
          "name": "stdout"
        }
      ]
    },
    {
      "metadata": {
        "id": "yh8cpwVRNFzf",
        "colab_type": "code",
        "colab": {}
      },
      "cell_type": "code",
      "source": [
        "fin = io.open('glove-42B-300d.txt', 'r', encoding='utf-8', newline='\\n', errors='ignore')\n",
        "glove_embeddings = np.zeros((len(vocab_dict), embedding_size))\n",
        "for line in fin:\n",
        "    tokens = line.rstrip().split(' ')\n",
        "    if tokens[0].lower() in vocab_dict:\n",
        "        glove_embeddings[vocab_dict[tokens[0].lower()]] = list(map(float, tokens[1:]))\n",
        "fin.close()"
      ],
      "execution_count": 0,
      "outputs": []
    },
    {
      "metadata": {
        "id": "IacoLQGv5ywq",
        "colab_type": "code",
        "colab": {}
      },
      "cell_type": "code",
      "source": [
        "# Data shape\n",
        "N = train_data_matrix.shape[0]\n",
        "K = train_data_label.shape[1]\n",
        "\n",
        "input_size = len(vocab) + 2\n",
        "output_size = K"
      ],
      "execution_count": 0,
      "outputs": []
    },
    {
      "metadata": {
        "id": "m5QlukBIy00s",
        "colab_type": "code",
        "outputId": "eddb82e5-dcdd-42b9-aea9-b9419b8134ad",
        "colab": {
          "base_uri": "https://localhost:8080/",
          "height": 56
        }
      },
      "cell_type": "code",
      "source": [
        "assert not np.any(np.isnan(glove_embeddings))\n",
        "print(np.amax(glove_embeddings))\n",
        "print(np.amin(glove_embeddings))"
      ],
      "execution_count": 20,
      "outputs": [
        {
          "output_type": "stream",
          "text": [
            "2.5168\n",
            "-4.5811\n"
          ],
          "name": "stdout"
        }
      ]
    },
    {
      "metadata": {
        "id": "kHSSCga85y0f",
        "colab_type": "code",
        "outputId": "14c59480-ffe4-452f-adee-29390d70e0a8",
        "colab": {
          "base_uri": "https://localhost:8080/",
          "height": 1411
        }
      },
      "cell_type": "code",
      "source": [
        "# New model\n",
        "\n",
        "# embedding layer and dropout\n",
        "embed_input = Input(shape=(input_length,), name='words')\n",
        "embed_out = Embedding(input_dim=input_size, output_dim=embedding_size, input_length=input_length, weights=[glove_embeddings], trainable=False)(embed_input)\n",
        "dropout = Dropout(dropout_rate)(embed_out)\n",
        "\n",
        "# LSTM layer\n",
        "gru_out = Bidirectional(GRU(units=hidden_size*2, dropout=dropout_rate, return_sequences=True, kernel_regularizer=keras.regularizers.l2(1e-5)))(dropout)\n",
        "tdl = TimeDistributed(Dense(120))(gru_out)\n",
        "gru_out2 = Bidirectional(GRU(units=hidden_size, dropout=dropout_rate, kernel_regularizer=keras.regularizers.l2(1e-5)))(tdl)\n",
        "\n",
        "x = Dense(40)(gru_out2)\n",
        "\n",
        "# output layer\n",
        "main_out = Dense(K, activation='softmax')(x)\n",
        "\n",
        "model = Model(embed_input, main_out)\n",
        "\n",
        "model.summary()\n",
        "\n",
        "\n",
        "# optimizer\n",
        "optimizer = RMSprop(lr=learning_rate)\n",
        "\n",
        "reduce_lr = ReduceLROnPlateau(monitor='val_acc', factor=0.3, patience=3, min_lr=0.000001, verbose=1, min_delta=0.005)\n",
        "# early_stop = EarlyStopping(monitor='val_acc', mode='auto', min_delta=0.005, patience=4, restore_best_weights=False)\n",
        "\n",
        "# compile model\n",
        "model.compile(loss='categorical_crossentropy', optimizer=optimizer, metrics=['accuracy'])\n",
        "\n",
        "\n",
        "tpu_model = tf.contrib.tpu.keras_to_tpu_model(\n",
        "    model,\n",
        "    strategy=tf.contrib.tpu.TPUDistributionStrategy(\n",
        "        tf.contrib.cluster_resolver.TPUClusterResolver(\n",
        "            tpu='grpc://' + os.environ['COLAB_TPU_ADDR'])\n",
        "    )\n",
        ")\n",
        "\n",
        "# training\n",
        "history = tpu_model.fit(train_data_matrix, train_data_label, epochs=total_epoch, batch_size=batch_size, validation_data=(valid_data_matrix, valid_data_label), callbacks=[reduce_lr,])"
      ],
      "execution_count": 24,
      "outputs": [
        {
          "output_type": "stream",
          "text": [
            "_________________________________________________________________\n",
            "Layer (type)                 Output Shape              Param #   \n",
            "=================================================================\n",
            "words (InputLayer)           (None, 250)               0         \n",
            "_________________________________________________________________\n",
            "embedding_1 (Embedding)      (None, 250, 300)          64388400  \n",
            "_________________________________________________________________\n",
            "dropout_1 (Dropout)          (None, 250, 300)          0         \n",
            "_________________________________________________________________\n",
            "bidirectional_2 (Bidirection (None, 250, 320)          442560    \n",
            "_________________________________________________________________\n",
            "time_distributed_1 (TimeDist (None, 250, 120)          38520     \n",
            "_________________________________________________________________\n",
            "bidirectional_3 (Bidirection (None, 160)               96480     \n",
            "_________________________________________________________________\n",
            "dense_4 (Dense)              (None, 40)                6440      \n",
            "_________________________________________________________________\n",
            "dense_5 (Dense)              (None, 5)                 205       \n",
            "=================================================================\n",
            "Total params: 64,972,605\n",
            "Trainable params: 584,205\n",
            "Non-trainable params: 64,388,400\n",
            "_________________________________________________________________\n",
            "Train on 300000 samples, validate on 10000 samples\n",
            "Epoch 1/20\n",
            "300000/300000 [==============================] - 768s 3ms/sample - loss: 0.9698 - acc: 0.6025 - val_loss: 1.5119 - val_acc: 0.5500\n",
            "Epoch 2/20\n",
            "300000/300000 [==============================] - 104s 348us/sample - loss: 0.8416 - acc: 0.6529 - val_loss: 0.8447 - val_acc: 0.6310\n",
            "Epoch 3/20\n",
            "300000/300000 [==============================] - 103s 342us/sample - loss: 0.8059 - acc: 0.6671 - val_loss: 0.8442 - val_acc: 0.6550\n",
            "Epoch 4/20\n",
            "300000/300000 [==============================] - 102s 342us/sample - loss: 0.7859 - acc: 0.6752 - val_loss: 0.7805 - val_acc: 0.6752\n",
            "Epoch 5/20\n",
            "300000/300000 [==============================] - 103s 342us/sample - loss: 0.7708 - acc: 0.6826 - val_loss: 0.7706 - val_acc: 0.6880\n",
            "Epoch 6/20\n",
            "300000/300000 [==============================] - 102s 342us/sample - loss: 0.7586 - acc: 0.6880 - val_loss: 0.7570 - val_acc: 0.6903\n",
            "Epoch 7/20\n",
            "300000/300000 [==============================] - 103s 343us/sample - loss: 0.7536 - acc: 0.6903 - val_loss: 0.7475 - val_acc: 0.6929\n",
            "Epoch 8/20\n",
            "299520/300000 [============================>.] - ETA: 0s - loss: 0.7504 - acc: 0.6922\n",
            "Epoch 00008: ReduceLROnPlateau reducing learning rate to 0.0003000000142492354.\n",
            "300000/300000 [==============================] - 157s 524us/sample - loss: 0.7505 - acc: 0.6921 - val_loss: 1.0139 - val_acc: 0.5945\n",
            "Epoch 9/20\n",
            "300000/300000 [==============================] - 109s 363us/sample - loss: 0.7316 - acc: 0.6996 - val_loss: 0.7407 - val_acc: 0.6975\n",
            "Epoch 10/20\n",
            "300000/300000 [==============================] - 109s 363us/sample - loss: 0.7235 - acc: 0.7035 - val_loss: 0.7374 - val_acc: 0.6977\n",
            "Epoch 11/20\n",
            "300000/300000 [==============================] - 109s 362us/sample - loss: 0.7186 - acc: 0.7052 - val_loss: 0.7353 - val_acc: 0.6991\n",
            "Epoch 12/20\n",
            "299520/300000 [============================>.] - ETA: 0s - loss: 0.7174 - acc: 0.7057\n",
            "Epoch 00012: ReduceLROnPlateau reducing learning rate to 9.000000427477062e-05.\n",
            "300000/300000 [==============================] - 109s 364us/sample - loss: 0.7173 - acc: 0.7057 - val_loss: 0.7344 - val_acc: 0.7016\n",
            "Epoch 13/20\n",
            "300000/300000 [==============================] - 109s 363us/sample - loss: 0.7110 - acc: 0.7078 - val_loss: 0.7346 - val_acc: 0.7017\n",
            "Epoch 14/20\n",
            "300000/300000 [==============================] - 109s 364us/sample - loss: 0.7089 - acc: 0.7085 - val_loss: 0.7339 - val_acc: 0.7017\n",
            "Epoch 15/20\n",
            "299520/300000 [============================>.] - ETA: 0s - loss: 0.7085 - acc: 0.7083\n",
            "Epoch 00015: ReduceLROnPlateau reducing learning rate to 2.700000040931627e-05.\n",
            "300000/300000 [==============================] - 109s 365us/sample - loss: 0.7085 - acc: 0.7083 - val_loss: 0.7343 - val_acc: 0.7025\n",
            "Epoch 16/20\n",
            "300000/300000 [==============================] - 109s 363us/sample - loss: 0.7061 - acc: 0.7100 - val_loss: 0.7328 - val_acc: 0.7026\n",
            "Epoch 17/20\n",
            "300000/300000 [==============================] - 108s 361us/sample - loss: 0.7061 - acc: 0.7097 - val_loss: 0.7320 - val_acc: 0.7029\n",
            "Epoch 18/20\n",
            "300000/300000 [==============================] - 108s 360us/sample - loss: 0.7056 - acc: 0.7105 - val_loss: 0.7322 - val_acc: 0.7037\n",
            "Epoch 19/20\n",
            "299520/300000 [============================>.] - ETA: 0s - loss: 0.7052 - acc: 0.7103\n",
            "Epoch 00019: ReduceLROnPlateau reducing learning rate to 8.100000013655517e-06.\n",
            "300000/300000 [==============================] - 108s 358us/sample - loss: 0.7053 - acc: 0.7103 - val_loss: 0.7314 - val_acc: 0.7025\n",
            "Epoch 20/20\n",
            "300000/300000 [==============================] - 109s 363us/sample - loss: 0.7042 - acc: 0.7103 - val_loss: 0.7317 - val_acc: 0.7038\n"
          ],
          "name": "stdout"
        }
      ]
    },
    {
      "metadata": {
        "id": "7V0HpJWR1YyZ",
        "colab_type": "code",
        "outputId": "02ad7037-acb1-4ead-e0f2-2d511dedf48a",
        "colab": {
          "base_uri": "https://localhost:8080/",
          "height": 172
        }
      },
      "cell_type": "code",
      "source": [
        "# testing\n",
        "train_score = tpu_model.evaluate(train_data_matrix, train_data_label, batch_size=batch_size)\n",
        "print('Training Loss: {}\\n Training Accuracy: {}\\n'.format(train_score[0], train_score[1]))\n",
        "\n",
        "valid_score = tpu_model.evaluate(valid_data_matrix, valid_data_label, batch_size=batch_size)\n",
        "print('Validation Loss: {}\\n Validation Accuracy: {}\\n'.format(valid_score[0], valid_score[1]))\n",
        "\n",
        "# predicting\n",
        "test_pre = tpu_model.predict(test_data_matrix, batch_size=batch_size).argmax(axis=-1) + 1\n",
        "sub_df = pd.DataFrame()\n",
        "sub_df[\"review_id\"] = test_id_list\n",
        "sub_df[\"pre\"] = test_pre\n",
        "sub_df.to_csv(\"pre.csv\", index=False)"
      ],
      "execution_count": 25,
      "outputs": [
        {
          "output_type": "stream",
          "text": [
            "300000/300000 [==============================] - 151s 502us/sample - loss: 0.6726 - acc: 0.7233\n",
            "Training Loss: 0.6725885480880738\n",
            " Training Accuracy: 0.7232900261878967\n",
            "\n",
            "10000/10000 [==============================] - 2s 189us/sample - loss: 0.7317 - acc: 0.7038\n",
            "Validation Loss: 0.7317058445930481\n",
            " Validation Accuracy: 0.7037999629974365\n",
            "\n"
          ],
          "name": "stdout"
        }
      ]
    },
    {
      "metadata": {
        "id": "Y6ekWNCj16rR",
        "colab_type": "code",
        "outputId": "5c814c14-0ed1-4c9e-dcee-32e9f5c020ed",
        "colab": {
          "base_uri": "https://localhost:8080/",
          "height": 735
        }
      },
      "cell_type": "code",
      "source": [
        "plt.plot(history.history['acc'])\n",
        "plt.plot(history.history['val_acc'])\n",
        "plt.title('Model accuracy')\n",
        "plt.ylabel('Accuracy')\n",
        "plt.xlabel('Epoch')\n",
        "plt.legend(['Train', 'Validation'], loc='upper left')\n",
        "plt.show()\n",
        "\n",
        "# Plot training & validation loss values\n",
        "plt.plot(history.history['loss'])\n",
        "plt.plot(history.history['val_loss'])\n",
        "plt.title('Model loss')\n",
        "plt.ylabel('Loss')\n",
        "plt.xlabel('Epoch')\n",
        "plt.legend(['Train', 'Validation'], loc='upper left')\n",
        "plt.show()"
      ],
      "execution_count": 26,
      "outputs": [
        {
          "output_type": "display_data",
          "data": {
            "image/png": "[encoded data removed]",
            "text/plain": [
              "<Figure size 576x396 with 1 Axes>"
            ]
          },
          "metadata": {
            "tags": []
          }
        },
        {
          "output_type": "display_data",
          "data": {
            "image/png": "[encoded data removed]",
            "text/plain": [
              "<Figure size 576x396 with 1 Axes>"
            ]
          },
          "metadata": {
            "tags": []
          }
        }
      ]
    },
    {
      "metadata": {
        "id": "IMmwrSRiBIgQ",
        "colab_type": "code",
        "colab": {}
      },
      "cell_type": "code",
      "source": [
        "import h5py\n",
        "tpu_model.save('best.h5')"
      ],
      "execution_count": 0,
      "outputs": []
    },
    {
      "metadata": {
        "id": "RUeoznHEAmcu",
        "colab_type": "code",
        "colab": {}
      },
      "cell_type": "code",
      "source": [
        ""
      ],
      "execution_count": 0,
      "outputs": []
    }
  ]
}